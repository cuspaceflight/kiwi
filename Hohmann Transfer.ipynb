{
 "cells": [
  {
   "cell_type": "markdown",
   "id": "e4d3053b",
   "metadata": {},
   "source": [
    "### Hohmann Transfer\n",
    "\n",
    "A simple Hohmann transfer between two orbits.\n",
    "\n",
    "(incomplete)"
   ]
  },
  {
   "cell_type": "code",
   "execution_count": 1,
   "id": "e3f204e0",
   "metadata": {},
   "outputs": [],
   "source": [
    "import cusfkiwi as kiwi\n",
    "import numpy as np\n",
    "import matplotlib.pyplot as plt\n",
    "import scipy.optimize"
   ]
  },
  {
   "cell_type": "code",
   "execution_count": 2,
   "id": "1d0df666",
   "metadata": {},
   "outputs": [],
   "source": [
    "# Earth properties\n",
    "earth = {\"r\" : 6371e3, \"mu\" : 3.986004418e14}\n",
    "\n",
    "# Initial orbit\n",
    "orbit1 = {\"alt\" : 400e3}\n",
    "orbit1[\"vel\"] = ( earth[\"mu\"] / (earth[\"r\"] + orbit1[\"alt\"]) )**0.5\n",
    "orbit1[\"r\"] = orbit1[\"alt\"] + earth[\"r\"]\n",
    "\n",
    "# Target orbit\n",
    "orbit2 = {\"alt\" : 800e3}\n",
    "orbit2[\"vel\"] = ( earth[\"mu\"] / (earth[\"r\"] + orbit2[\"alt\"]) )**0.5\n",
    "orbit2[\"r\"] = orbit2[\"alt\"] + earth[\"r\"]\n",
    "\n",
    "# Initiate in Orbit 1\n",
    "init_state = kiwi.State(time = 0, \n",
    "                        pos = [orbit1[\"r\"], 0, 0], \n",
    "                        vel = [0, orbit1[\"vel\"], 0],\n",
    "                        ang_pos = [0,0,0,1], \n",
    "                        ang_vel = [0, 0, 0])"
   ]
  },
  {
   "cell_type": "code",
   "execution_count": 3,
   "id": "0fa44532",
   "metadata": {},
   "outputs": [],
   "source": [
    "# Orbit 1 period\n",
    "period = 2 * np.pi * (orbit1[\"r\"]**3 / earth[\"mu\"])**0.5\n",
    "\n",
    "# End condition at apogee\n",
    "r_last = orbit1[\"r\"]\n",
    "def end_condition(state):\n",
    "    global r_last\n",
    "    r = np.linalg.norm(state.pos)\n",
    "     \n",
    "    # Propagate at least 1 orbit\n",
    "    if state.time < 1.05 * period:\n",
    "        r_last = r    \n",
    "        return False\n",
    "    \n",
    "    else:\n",
    "        dr = r - r_last\n",
    "        if dr < 0:\n",
    "            r_last = r    \n",
    "            return True    # End simulation at apogee\n",
    "        \n",
    "        else:\n",
    "            r_last = r    \n",
    "            return False\n",
    "        \n",
    "dry_mass = 50\n",
    "fuel_mass = 100\n",
    "isp = 3000              # m/s of specific impulse\n",
    "mdot = 0.1\n",
    "start_burn_1 = period   # Start the first burn after 1 period\n",
    "dt = 0.5\n",
    "\n",
    "# Calculate the burn time iteratively\n",
    "def propagate1(burn_time_1):\n",
    "    \n",
    "    def mass_func(t):\n",
    "        if t < start_burn_1:\n",
    "            return dry_mass + fuel_mass\n",
    "        elif t < start_burn_1 + burn_time_1:\n",
    "            return dry_mass + fuel_mass - mdot * (t - start_burn_1)\n",
    "        else:\n",
    "            return dry_mass + fuel_mass - mdot * burn_time_1\n",
    "    \n",
    "    def thrust_func(state):\n",
    "        if state.time > start_burn_1 and state.time < start_burn_1 + burn_time_1:\n",
    "            prograde = np.array(state.vel) / np.linalg.norm(state.vel)\n",
    "            return mdot * isp * prograde\n",
    "        else:\n",
    "            return [0,0,0]\n",
    "    \n",
    "    def gravity_func(state):\n",
    "        r = np.linalg.norm(state.pos)\n",
    "        radial = np.array(state.pos) / r\n",
    "        \n",
    "        return - radial * earth[\"mu\"] * mass_func(state.time) / r**2\n",
    "    \n",
    "    mass = kiwi.Mass(mass_func, 'time')\n",
    "    moments_of_inertia = kiwi.MomentsOfInertia([1,1,1], 'none') # Not modelling rotation\n",
    "    thrust = kiwi.Force(thrust_func, \"state\")\n",
    "    gravity = kiwi.Force(gravity_func, \"state\")\n",
    "    forces = [thrust, gravity]\n",
    "    moments = []                                                # Not modelling rotation\n",
    "    \n",
    "    satellite = kiwi.Body(init_state, mass, moments_of_inertia, forces, moments)\n",
    "    simulation = kiwi.Simulation(satellite, dt = dt, end_condition = end_condition)\n",
    "    simulation.run(debug = False)\n",
    "    \n",
    "    return simulation\n",
    "    "
   ]
  },
  {
   "cell_type": "code",
   "execution_count": 7,
   "id": "4632ae1e",
   "metadata": {},
   "outputs": [
    {
     "name": "stdout",
     "output_type": "stream",
     "text": [
      "burn time = 0.00000 s, error = -399.99999999999255 km\n",
      "burn time = 500.00000 s, error = 6579.396201716921 km\n",
      "burn time = 28.65577 s, error = -191.72687827108427 km\n",
      "burn time = 54.28805 s, error = 3.9771844336958604 km\n",
      "burn time = 53.76714 s, error = 0.04013477108348161 km\n",
      "burn time = 53.51714 s, error = -1.2713059426257387 km\n"
     ]
    }
   ],
   "source": [
    "def apogee_error(burn_time_1):\n",
    "    result = propagate1(burn_time_1)\n",
    "    apogee = max(np.linalg.norm(state.pos) for state in result.states)\n",
    "    \n",
    "    error = (apogee - orbit2[\"r\"])/1e3\n",
    "    print(f\"burn time = {burn_time_1:.5f} s, error = {error} km\")\n",
    "    return error\n",
    "    \n",
    "sol1 = scipy.optimize.root_scalar(apogee_error, x0 = 5, bracket = [0, 0.5*fuel_mass/mdot], xtol = dt) # Note we can't resolve burn time more accurately than the integrator timestep\n",
    "\n",
    "burn_time_1 = sol1.root\n",
    "result1 = propagate1(burn_time_1) "
   ]
  },
  {
   "cell_type": "code",
   "execution_count": 8,
   "id": "2192c013",
   "metadata": {},
   "outputs": [
    {
     "data": {
      "image/png": "[encoded data removed]",
      "text/plain": [
       "<Figure size 432x288 with 1 Axes>"
      ]
     },
     "metadata": {
      "needs_background": "light"
     },
     "output_type": "display_data"
    }
   ],
   "source": [
    "fig, ax = plt.subplots()\n",
    "ax.plot(result1.x(), result1.y())\n",
    "earth_circle = plt.Circle((0, 0), earth[\"r\"], color='skyblue')\n",
    "ax.add_patch(earth_circle)\n",
    "ax.set_aspect(1)\n",
    "plt.grid()\n",
    "plt.xlabel(\"x (m)\")\n",
    "plt.ylabel(\"y (m)\")\n",
    "plt.show()"
   ]
  },
  {
   "cell_type": "markdown",
   "id": "74f428cf",
   "metadata": {},
   "source": [
    "*[everything below is incomplete]*"
   ]
  },
  {
   "cell_type": "code",
   "execution_count": null,
   "id": "91702ae6",
   "metadata": {},
   "outputs": [],
   "source": [
    "# Now burn until perigee increases to that of orbit 2\n",
    "fuel_mass = fuel_mass - burn_time_1 * mdot\n",
    "start_burn_2 = 0\n",
    "\n",
    "# Initiate at end of Orbit 1\n",
    "init_state = kiwi.State(time = 0, \n",
    "                        pos = result1.states[-1].pos, \n",
    "                        vel = result1.states[-1].vel,\n",
    "                        ang_pos = [0,0,0,1], \n",
    "                        ang_vel = [0, 0, 0])\n",
    "\n",
    "# Calculate the burn time iteratively\n",
    "def propagate2(burn_time_2):\n",
    "\n",
    "    def mass_func(t):\n",
    "        if t < start_burn_2:\n",
    "            return dry_mass + fuel_mass\n",
    "        elif t < start_burn_2 + burn_time_1:\n",
    "            return dry_mass + fuel_mass - mdot * (t - start_burn_1)\n",
    "        else:\n",
    "            return dry_mass + fuel_mass - mdot * burn_time_1\n",
    "    \n",
    "    def thrust_func(state):\n",
    "        if state.time > start_burn_1 and state.time < start_burn_1 + burn_time_1:\n",
    "            prograde = np.array(state.vel) / np.linalg.norm(state.vel)\n",
    "            return mdot * isp * prograde\n",
    "        else:\n",
    "            return [0,0,0]\n",
    "    \n",
    "    def gravity_func(state):\n",
    "        r = np.linalg.norm(state.pos)\n",
    "        radial = np.array(state.pos) / r\n",
    "        \n",
    "        return - radial * earth[\"mu\"] * mass_func(state.time) / r**2\n",
    "    \n",
    "    mass = kiwi.Mass(mass_func, 'time')\n",
    "    moments_of_inertia = kiwi.MomentsOfInertia([1,1,1], 'none') # Not modelling rotation\n",
    "    thrust = kiwi.Force(thrust_func, \"state\")\n",
    "    gravity = kiwi.Force(gravity_func, \"state\")\n",
    "    forces = [thrust, gravity]\n",
    "    moments = []                                                # Not modelling rotation\n",
    "    \n",
    "    satellite = kiwi.Body(init_state, mass, moments_of_inertia, forces, moments)\n",
    "    simulation = kiwi.Simulation(satellite, dt = dt, end_condition = end_condition)\n",
    "    simulation.run(debug = False)\n",
    "    \n",
    "    return simulation"
   ]
  },
  {
   "cell_type": "code",
   "execution_count": null,
   "id": "95d0150f",
   "metadata": {},
   "outputs": [],
   "source": []
  }
 ],
 "metadata": {
  "kernelspec": {
   "display_name": "Python 3",
   "language": "python",
   "name": "python3"
  },
  "language_info": {
   "codemirror_mode": {
    "name": "ipython",
    "version": 3
   },
   "file_extension": ".py",
   "mimetype": "text/x-python",
   "name": "python",
   "nbconvert_exporter": "python",
   "pygments_lexer": "ipython3",
   "version": "3.8.8"
  }
 },
 "nbformat": 4,
 "nbformat_minor": 5
}
